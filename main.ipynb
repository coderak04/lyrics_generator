{
  "cells": [
    {
      "cell_type": "markdown",
      "metadata": {},
      "source": [
        "Import the libraries"
      ]
    },
    {
      "cell_type": "code",
      "execution_count": null,
      "metadata": {
        "id": "D5lwu5_I0r5P"
      },
      "outputs": [],
      "source": [
        "import pandas as pd\n",
        "import numpy as np\n",
        "import tensorflow as tf\n",
        "from tensorflow.keras.preprocessing.sequence import pad_sequences\n",
        "from tensorflow.keras.layers import Embedding, Dropout, LSTM, Dense, Bidirectional\n",
        "from tensorflow.keras.callbacks import EarlyStopping\n",
        "from tensorflow.keras.preprocessing.text import Tokenizer\n",
        "from tensorflow.keras.models import Sequential"
      ]
    },
    {
      "cell_type": "code",
      "execution_count": 2,
      "metadata": {
        "id": "8I_G50V00r5V"
      },
      "outputs": [],
      "source": [
        "data=pd.read_csv('data.csv')\n",
        "data=data.head(500)"
      ]
    },
    {
      "cell_type": "markdown",
      "metadata": {},
      "source": [
        "Visualize the number of words in each lyrics and the average number of words"
      ]
    },
    {
      "cell_type": "code",
      "execution_count": 4,
      "metadata": {
        "colab": {
          "base_uri": "https://localhost:8080/",
          "height": 206
        },
        "id": "Uf94Lwpa0r5V",
        "outputId": "43a2d5f4-e325-4293-aa63-a4a39520adbc"
      },
      "outputs": [
        {
          "data": {
            "text/html": [
              "<div>\n",
              "<style scoped>\n",
              "    .dataframe tbody tr th:only-of-type {\n",
              "        vertical-align: middle;\n",
              "    }\n",
              "\n",
              "    .dataframe tbody tr th {\n",
              "        vertical-align: top;\n",
              "    }\n",
              "\n",
              "    .dataframe thead th {\n",
              "        text-align: right;\n",
              "    }\n",
              "</style>\n",
              "<table border=\"1\" class=\"dataframe\">\n",
              "  <thead>\n",
              "    <tr style=\"text-align: right;\">\n",
              "      <th></th>\n",
              "      <th>lyrics</th>\n",
              "      <th>Number_of_words</th>\n",
              "    </tr>\n",
              "  </thead>\n",
              "  <tbody>\n",
              "    <tr>\n",
              "      <th>0</th>\n",
              "      <td>it s all right it s all right yeah it s all ri...</td>\n",
              "      <td>98</td>\n",
              "    </tr>\n",
              "    <tr>\n",
              "      <th>1</th>\n",
              "      <td>maybe she s just too old for me living in a te...</td>\n",
              "      <td>457</td>\n",
              "    </tr>\n",
              "    <tr>\n",
              "      <th>2</th>\n",
              "      <td>challenge me i will stay by your side draw you...</td>\n",
              "      <td>283</td>\n",
              "    </tr>\n",
              "    <tr>\n",
              "      <th>3</th>\n",
              "      <td>i got strung up from our loving i wish you car...</td>\n",
              "      <td>532</td>\n",
              "    </tr>\n",
              "    <tr>\n",
              "      <th>4</th>\n",
              "      <td>i came to town the other night i heard the noi...</td>\n",
              "      <td>520</td>\n",
              "    </tr>\n",
              "  </tbody>\n",
              "</table>\n",
              "</div>"
            ],
            "text/plain": [
              "                                              lyrics  Number_of_words\n",
              "0  it s all right it s all right yeah it s all ri...               98\n",
              "1  maybe she s just too old for me living in a te...              457\n",
              "2  challenge me i will stay by your side draw you...              283\n",
              "3  i got strung up from our loving i wish you car...              532\n",
              "4  i came to town the other night i heard the noi...              520"
            ]
          },
          "execution_count": 4,
          "metadata": {},
          "output_type": "execute_result"
        }
      ],
      "source": [
        "data['Word_Count'] = data['lyrics'].apply(lambda x: len(str(x).split()))\n",
        "data.head()"
      ]
    },
    {
      "cell_type": "code",
      "execution_count": 5,
      "metadata": {
        "colab": {
          "base_uri": "https://localhost:8080/"
        },
        "id": "Pj6cARA60r5W",
        "outputId": "ea920300-20be-4073-bbdb-2da4589420de"
      },
      "outputs": [
        {
          "data": {
            "text/plain": [
              "count    500.000000\n",
              "mean     270.166000\n",
              "std      161.845464\n",
              "min        1.000000\n",
              "25%      158.000000\n",
              "50%      235.000000\n",
              "75%      342.250000\n",
              "max      933.000000\n",
              "Name: Number_of_words, dtype: float64"
            ]
          },
          "execution_count": 5,
          "metadata": {},
          "output_type": "execute_result"
        }
      ],
      "source": [
        "lyric_lengths = data['Word_Count']\n",
        "lyric_lengths.describe()"
      ]
    },
    {
      "cell_type": "markdown",
      "metadata": {},
      "source": [
        "Preprocessing"
      ]
    },
    {
      "cell_type": "code",
      "execution_count": 6,
      "metadata": {
        "colab": {
          "base_uri": "https://localhost:8080/"
        },
        "id": "aKzbiJsM0r5W",
        "outputId": "6242fae9-be92-41c4-8706-94c12a8aba20"
      },
      "outputs": [
        {
          "data": {
            "text/plain": [
              "0     it s all right it s all right yeah it s all ri...\n",
              "1     maybe she s just too old for me living in a te...\n",
              "2     challenge me i will stay by your side draw you...\n",
              "3     i got strung up from our loving i wish you car...\n",
              "4     i came to town the other night i heard the noi...\n",
              "                            ...                        \n",
              "95    can t stop this money marathon but they gonna ...\n",
              "96    been a long time since you touched me and made...\n",
              "97    lover one lovely day love came planning to sta...\n",
              "98    would you go to war for me baby would you cry ...\n",
              "99    there s something rules our destiny right from...\n",
              "Name: lyrics, Length: 100, dtype: object"
            ]
          },
          "execution_count": 6,
          "metadata": {},
          "output_type": "execute_result"
        }
      ],
      "source": [
        "lyrics = data['lyrics'].astype(str).str.lower()\n",
        "lyrics[0:100]"
      ]
    },
    {
      "cell_type": "markdown",
      "metadata": {},
      "source": [
        "Tokenization"
      ]
    },
    {
      "cell_type": "code",
      "execution_count": 7,
      "metadata": {
        "id": "1WAuolDfFkQ2"
      },
      "outputs": [],
      "source": [
        "token_maker = Tokenizer()\n",
        "token_maker.fit_on_texts(lyrics)\n",
        "total_words = len(token_maker.word_index) + 1"
      ]
    },
    {
      "cell_type": "code",
      "execution_count": 9,
      "metadata": {
        "colab": {
          "base_uri": "https://localhost:8080/"
        },
        "id": "mnCrdLtg0r5W",
        "outputId": "f4c89e7f-3057-4d03-bc8f-5a81986cb8cb"
      },
      "outputs": [
        {
          "data": {
            "text/plain": [
              "[7,\n",
              " 11,\n",
              " 19,\n",
              " 75,\n",
              " 7,\n",
              " 11,\n",
              " 19,\n",
              " 75,\n",
              " 57,\n",
              " 7,\n",
              " 11,\n",
              " 19,\n",
              " 75,\n",
              " 7,\n",
              " 11,\n",
              " 19,\n",
              " 75,\n",
              " 57,\n",
              " 7,\n",
              " 1018,\n",
              " 19,\n",
              " 98,\n",
              " 1,\n",
              " 27,\n",
              " 6,\n",
              " 867,\n",
              " 44,\n",
              " 11,\n",
              " 6,\n",
              " 906,\n",
              " 867,\n",
              " 42,\n",
              " 7,\n",
              " 252,\n",
              " 48,\n",
              " 5,\n",
              " 907,\n",
              " 9,\n",
              " 44,\n",
              " 450,\n",
              " 35,\n",
              " 5,\n",
              " 40,\n",
              " 3,\n",
              " 33,\n",
              " 9,\n",
              " 440,\n",
              " 12,\n",
              " 2,\n",
              " 1501,\n",
              " 33,\n",
              " 9,\n",
              " 386,\n",
              " 72,\n",
              " 98,\n",
              " 42,\n",
              " 7,\n",
              " 252,\n",
              " 5,\n",
              " 907,\n",
              " 9,\n",
              " 57,\n",
              " 44,\n",
              " 11,\n",
              " 266,\n",
              " 19,\n",
              " 266,\n",
              " 8,\n",
              " 332,\n",
              " 2505,\n",
              " 74,\n",
              " 332,\n",
              " 2505,\n",
              " 74,\n",
              " 332,\n",
              " 2505,\n",
              " 74,\n",
              " 1,\n",
              " 27,\n",
              " 6,\n",
              " 867,\n",
              " 44,\n",
              " 11,\n",
              " 6,\n",
              " 906,\n",
              " 867,\n",
              " 42,\n",
              " 7,\n",
              " 252,\n",
              " 48,\n",
              " 5,\n",
              " 907,\n",
              " 9,\n",
              " 44,\n",
              " 20,\n",
              " 266,\n",
              " 19,\n",
              " 266]"
            ]
          },
          "execution_count": 9,
          "metadata": {},
          "output_type": "execute_result"
        }
      ],
      "source": [
        "tokenized_lyrics = token_maker.texts_to_sequences(lyrics)\n",
        "tokenized_lyrics[0]"
      ]
    },
    {
      "cell_type": "markdown",
      "metadata": {},
      "source": [
        "n gram sequence"
      ]
    },
    {
      "cell_type": "code",
      "execution_count": 10,
      "metadata": {
        "id": "aPRD09VO0r5W"
      },
      "outputs": [],
      "source": [
        "input_sequences = []\n",
        "for lyric in tokenized_lyrics:\n",
        "    for i in range(1, len(lyric)):\n",
        "        n_gram_sequence = lyric[:i+1]\n",
        "        input_sequences.append(n_gram_sequence)"
      ]
    },
    {
      "cell_type": "markdown",
      "metadata": {},
      "source": [
        "Pre padding"
      ]
    },
    {
      "cell_type": "code",
      "execution_count": null,
      "metadata": {},
      "outputs": [],
      "source": [
        "max_sequence_length = max([len(seq) for seq in input_sequences])\n",
        "padded_sequences = np.array(pad_sequences(input_sequences, maxlen=max_sequence_length, padding='pre'))"
      ]
    },
    {
      "cell_type": "markdown",
      "metadata": {},
      "source": [
        "create predictors and label"
      ]
    },
    {
      "cell_type": "code",
      "execution_count": 20,
      "metadata": {
        "colab": {
          "base_uri": "https://localhost:8080/"
        },
        "id": "qbHD5ypi0r5W",
        "outputId": "69d5c179-824c-4253-b3aa-daa7488b26e1"
      },
      "outputs": [
        {
          "name": "stdout",
          "output_type": "stream",
          "text": [
            "(134583, 932)\n",
            "933\n"
          ]
        }
      ],
      "source": [
        "X, labels = padded_sequences[:,:-1], padded_sequences[:,-1]\n",
        "y = tf.keras.utils.to_categorical(labels, num_classes=total_words)\n",
        "print(X.shape)\n",
        "print(max_sequence_length)"
      ]
    },
    {
      "cell_type": "markdown",
      "metadata": {},
      "source": [
        "create the LSTM model and train it for 10 epochs"
      ]
    },
    {
      "cell_type": "code",
      "execution_count": null,
      "metadata": {
        "id": "OtSgpEE00r5X"
      },
      "outputs": [],
      "source": [
        "model = Sequential()\n",
        "model.add(Embedding(total_words, 40, input_length=max_sequence_length-1))\n",
        "model.add(Bidirectional(LSTM(250)))\n",
        "model.add(Dropout(0.1))\n",
        "model.add(Dense(total_words, activation='softmax'))\n",
        "model.compile(loss='categorical_crossentropy', optimizer='adam', metrics=['accuracy'])\n",
        "earlystop = EarlyStopping(monitor='loss', min_delta=0, patience=3, verbose=0, mode='auto')\n",
        "history = model.fit(X, y, epochs=10, verbose=1, callbacks=[earlystop])"
      ]
    },
    {
      "cell_type": "markdown",
      "metadata": {},
      "source": [
        "Save the model"
      ]
    },
    {
      "cell_type": "code",
      "execution_count": null,
      "metadata": {},
      "outputs": [],
      "source": [
        "model.save('song_lyrics_generator.h5')"
      ]
    },
    {
      "cell_type": "markdown",
      "metadata": {},
      "source": [
        "Function to generate lyrics"
      ]
    },
    {
      "cell_type": "code",
      "execution_count": 11,
      "metadata": {
        "id": "AZoeT5ts0r5X"
      },
      "outputs": [],
      "source": [
        "def complete_this_song(seed_text, num_words):\n",
        "    for _ in range(num_words):\n",
        "        token_list = token_maker.texts_to_sequences([seed_text])[0]\n",
        "        token_list = pad_sequences([token_list], maxlen=max_sequence_length-1, padding='pre')\n",
        "        predicted_probs = model.predict(token_list)[0]\n",
        "        predicted_index = np.argmax(predicted_probs)\n",
        "\n",
        "        output_word = \"\"\n",
        "        for word, index in token_maker.word_index.items():\n",
        "            if index == predicted_index:\n",
        "                output_word = word\n",
        "                break\n",
        "        seed_text += \" \" + output_word\n",
        "    return seed_text"
      ]
    },
    {
      "cell_type": "markdown",
      "metadata": {},
      "source": [
        "Load the model"
      ]
    },
    {
      "cell_type": "code",
      "execution_count": 12,
      "metadata": {
        "id": "0il-oVg13rrC"
      },
      "outputs": [],
      "source": [
        "from tensorflow.keras.models import load_model\n",
        "model = load_model('song_lyrics_generator.h5')"
      ]
    },
    {
      "cell_type": "markdown",
      "metadata": {},
      "source": [
        "Test case"
      ]
    },
    {
      "cell_type": "code",
      "execution_count": 13,
      "metadata": {
        "colab": {
          "base_uri": "https://localhost:8080/"
        },
        "id": "NWg6vws14FIQ",
        "outputId": "eecf44e8-e336-4155-fae8-d4aac37389af"
      },
      "outputs": [
        {
          "name": "stdout",
          "output_type": "stream",
          "text": [
            "1/1 [==============================] - 1s 885ms/step\n",
            "1/1 [==============================] - 0s 120ms/step\n",
            "1/1 [==============================] - 0s 124ms/step\n",
            "1/1 [==============================] - 0s 117ms/step\n",
            "1/1 [==============================] - 0s 121ms/step\n",
            "1/1 [==============================] - 0s 119ms/step\n",
            "1/1 [==============================] - 0s 121ms/step\n",
            "1/1 [==============================] - 0s 124ms/step\n",
            "1/1 [==============================] - 0s 120ms/step\n",
            "1/1 [==============================] - 0s 128ms/step\n",
            "1/1 [==============================] - 0s 130ms/step\n",
            "1/1 [==============================] - 0s 139ms/step\n",
            "1/1 [==============================] - 0s 189ms/step\n",
            "1/1 [==============================] - 0s 182ms/step\n",
            "1/1 [==============================] - 0s 127ms/step\n",
            "1/1 [==============================] - 0s 128ms/step\n",
            "1/1 [==============================] - 0s 125ms/step\n",
            "1/1 [==============================] - 0s 130ms/step\n",
            "1/1 [==============================] - 0s 126ms/step\n",
            "1/1 [==============================] - 0s 124ms/step\n",
            "1/1 [==============================] - 0s 120ms/step\n",
            "1/1 [==============================] - 0s 123ms/step\n",
            "1/1 [==============================] - 0s 120ms/step\n",
            "1/1 [==============================] - 0s 120ms/step\n",
            "1/1 [==============================] - 0s 116ms/step\n",
            "1/1 [==============================] - 0s 121ms/step\n",
            "1/1 [==============================] - 0s 121ms/step\n",
            "1/1 [==============================] - 0s 121ms/step\n",
            "1/1 [==============================] - 0s 121ms/step\n",
            "1/1 [==============================] - 0s 122ms/step\n",
            "1/1 [==============================] - 0s 117ms/step\n",
            "1/1 [==============================] - 0s 119ms/step\n",
            "1/1 [==============================] - 0s 120ms/step\n",
            "1/1 [==============================] - 0s 117ms/step\n",
            "1/1 [==============================] - 0s 119ms/step\n",
            "1/1 [==============================] - 0s 123ms/step\n",
            "1/1 [==============================] - 0s 118ms/step\n",
            "1/1 [==============================] - 0s 118ms/step\n",
            "1/1 [==============================] - 0s 119ms/step\n",
            "1/1 [==============================] - 0s 123ms/step\n",
            "1/1 [==============================] - 0s 121ms/step\n",
            "1/1 [==============================] - 0s 120ms/step\n",
            "1/1 [==============================] - 0s 116ms/step\n",
            "1/1 [==============================] - 0s 113ms/step\n",
            "1/1 [==============================] - 0s 108ms/step\n",
            "1/1 [==============================] - 0s 104ms/step\n",
            "1/1 [==============================] - 0s 100ms/step\n",
            "1/1 [==============================] - 0s 98ms/step\n",
            "1/1 [==============================] - 0s 98ms/step\n",
            "1/1 [==============================] - 0s 99ms/step\n",
            "party all night to find you here i wonder i m a fool to play i m a live to spill you i m gonna make it to you i m using one way no i won t let go of my friend i m a live wire i m a live wire\n"
          ]
        }
      ],
      "source": [
        "input='party all night'\n",
        "generated_lyrics = complete_this_song(input, 50)\n",
        "print(generated_lyrics)"
      ]
    }
  ],
  "metadata": {
    "accelerator": "GPU",
    "colab": {
      "gpuType": "T4",
      "provenance": []
    },
    "kernelspec": {
      "display_name": "Python 3",
      "name": "python3"
    },
    "language_info": {
      "codemirror_mode": {
        "name": "ipython",
        "version": 3
      },
      "file_extension": ".py",
      "mimetype": "text/x-python",
      "name": "python",
      "nbconvert_exporter": "python",
      "pygments_lexer": "ipython3",
      "version": "3.10.12"
    }
  },
  "nbformat": 4,
  "nbformat_minor": 0
}
